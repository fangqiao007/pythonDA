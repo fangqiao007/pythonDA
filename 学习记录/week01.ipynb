## Tab补全  

* 变量补全    
* 函数/方法补全    
* 路径补全
* 关键字参数补全

### 变量补全
name_age = ["zhichao_18","Alex_23","Marry_25","Hen-teng_28"]
dict_person = {}

#方法1:
for n in name_age:
    dict_person[n.split('_')[0]] = n.split('_')[1]
 
 


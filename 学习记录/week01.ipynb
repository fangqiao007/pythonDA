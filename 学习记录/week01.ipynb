{
 "cells": [
  {
   "cell_type": "markdown",
   "metadata": {},
   "source": [
    "# Tab补全  \n",
    "\n",
    "* 变量补全   \n",
    "* 函数/方法补全  \n",
    "* 路径补全\n",
    "* 关键字参数补全"
   ]
  },
  {
   "cell_type": "code",
   "execution_count": 9,
   "metadata": {},
   "outputs": [
    {
     "data": {
      "text/plain": [
       "{'zhichao': '18', 'Alex': '23', 'Marry': '25', 'Hen-teng': '28'}"
      ]
     },
     "execution_count": 9,
     "metadata": {},
     "output_type": "execute_result"
    }
   ],
   "source": [
    "## 变量补全\n",
    "#方法1:\n",
    "# 循环\n",
    "# for n in name_age:\n",
    "#     dict_person[n.split('_')[0]] = n.split('_')[1]\n",
    "# dict_person\n",
    "\n",
    "#方法2:\n",
    "#字典推到式\n",
    "dict_person = {n.split('_')[0]:n.split('_')[1] for n in name_age}\n",
    "dict_person"
   ]
  },
  {
   "cell_type": "code",
   "execution_count": 10,
   "metadata": {},
   "outputs": [],
   "source": [
    "##*函数/方法补全  \n",
    "import datetime"
   ]
  },
  {
   "cell_type": "code",
   "execution_count": 11,
   "metadata": {},
   "outputs": [
    {
     "name": "stdout",
     "output_type": "stream",
     "text": [
      "2020-03-16\n"
     ]
    }
   ],
   "source": [
    "print(datetime.date(2020,3,23))"
   ]
  },
  {
   "cell_type": "code",
   "execution_count": 13,
   "metadata": {},
   "outputs": [
    {
     "name": "stdout",
     "output_type": "stream",
     "text": [
      "391 days, 0:00:00\n",
      "2020-03-23\n",
      "20/03/23\n"
     ]
    }
   ],
   "source": [
    "# 两个日期相差多少天\n",
    "date_nCoV = datetime.date(2020,3,23)\n",
    "date_SARS = datetime.date(2019,2,26)\n",
    "print(date_nCoV.__sub__(date_SARS))\n",
    "# 格式化输出日期\n",
    "\n",
    "print(date_nCoV.strftime(\"%Y-%m-%d\"))\n",
    "print(date_nCoV.strftime(\"%y/%m/%d\"))\n"
   ]
  },
  {
   "cell_type": "code",
   "execution_count": null,
   "metadata": {},
   "outputs": [],
   "source": []
  }
 ],
 "metadata": {
  "kernelspec": {
   "display_name": "Python 3",
   "language": "python",
   "name": "python3"
  },
  "language_info": {
   "codemirror_mode": {
    "name": "ipython",
    "version": 3
   },
   "file_extension": ".py",
   "mimetype": "text/x-python",
   "name": "python",
   "nbconvert_exporter": "python",
   "pygments_lexer": "ipython3",
   "version": "3.7.3"
  },
  "toc": {
   "base_numbering": 1,
   "nav_menu": {},
   "number_sections": true,
   "sideBar": true,
   "skip_h1_title": false,
   "title_cell": "Table of Contents",
   "title_sidebar": "Contents",
   "toc_cell": false,
   "toc_position": {},
   "toc_section_display": true,
   "toc_window_display": false
  }
 },
 "nbformat": 4,
 "nbformat_minor": 2
}

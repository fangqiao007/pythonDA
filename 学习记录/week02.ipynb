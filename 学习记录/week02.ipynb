{
 "cells": [
  {
   "cell_type": "markdown",
   "metadata": {},
   "source": [
    "# 第二周学习记录"
   ]
  },
  {
   "cell_type": "markdown",
   "metadata": {},
   "source": [
    "## 熊猫处理什么样的数据\n",
    "框框框，探索，清理和处理数据在Pandas中，数据表称为DataFrame\n",
    "\n",
    "对数据科学家来说: \n",
    "- 数据框是众多变数的观察序列\n",
    "* 竖着的列column通常放**变数variables**\n",
    "* 横着的行row通常放**观察observations**\n",
    "![01_table_dataframe.svg](https://pandas.pydata.org/pandas-docs/version/1.0.2/_images/01_table_dataframe.svg)\n",
    "\n",
    "### 框框框代码片语\n",
    "     注意标点及缩进 \n"
   ]
  },
  {
   "cell_type": "code",
   "execution_count": 21,
   "metadata": {},
   "outputs": [],
   "source": [
    "import pandas as pd"
   ]
  },
  {
   "cell_type": "code",
   "execution_count": 23,
   "metadata": {},
   "outputs": [
    {
     "data": {
      "text/html": [
       "<div>\n",
       "<style scoped>\n",
       "    .dataframe tbody tr th:only-of-type {\n",
       "        vertical-align: middle;\n",
       "    }\n",
       "\n",
       "    .dataframe tbody tr th {\n",
       "        vertical-align: top;\n",
       "    }\n",
       "\n",
       "    .dataframe thead th {\n",
       "        text-align: right;\n",
       "    }\n",
       "</style>\n",
       "<table border=\"1\" class=\"dataframe\">\n",
       "  <thead>\n",
       "    <tr style=\"text-align: right;\">\n",
       "      <th></th>\n",
       "      <th>变数A</th>\n",
       "      <th>变数B</th>\n",
       "      <th>变数C</th>\n",
       "    </tr>\n",
       "  </thead>\n",
       "  <tbody>\n",
       "    <tr>\n",
       "      <th>0</th>\n",
       "      <td>观察A1</td>\n",
       "      <td>观察Y1</td>\n",
       "      <td>观察Z1</td>\n",
       "    </tr>\n",
       "    <tr>\n",
       "      <th>1</th>\n",
       "      <td>观察A2</td>\n",
       "      <td>观察Y2</td>\n",
       "      <td>观察Z2</td>\n",
       "    </tr>\n",
       "    <tr>\n",
       "      <th>2</th>\n",
       "      <td>观察A3</td>\n",
       "      <td>观察Y3</td>\n",
       "      <td>观察Z3</td>\n",
       "    </tr>\n",
       "    <tr>\n",
       "      <th>3</th>\n",
       "      <td>观察A4</td>\n",
       "      <td>观察Y4</td>\n",
       "      <td>观察Z4</td>\n",
       "    </tr>\n",
       "  </tbody>\n",
       "</table>\n",
       "</div>"
      ],
      "text/plain": [
       "    变数A   变数B   变数C\n",
       "0  观察A1  观察Y1  观察Z1\n",
       "1  观察A2  观察Y2  观察Z2\n",
       "2  观察A3  观察Y3  观察Z3\n",
       "3  观察A4  观察Y4  观察Z4"
      ]
     },
     "metadata": {},
     "output_type": "display_data"
    }
   ],
   "source": [
    "框框 = pd.DataFrame ( {\n",
    "        \"变数A\": [\"观察A1\", \"观察A2\", \"观察A3\", \"观察A4\"],\n",
    "        \"变数B\": [\"观察Y1\", \"观察Y2\", \"观察Y3\", \"观察Y4\"],\n",
    "        \"变数C\": [\"观察Z1\", \"观察Z2\", \"观察Z3\", \"观察Z4\"],\n",
    "      } )\n",
    "display (框框)\n",
    "\n",
    "\n"
   ]
  },
  {
   "cell_type": "markdown",
   "metadata": {},
   "source": [
    "记得，像人类语言一样，说的清楚，人就可以读的比较清楚....\n",
    "\n",
    "- pd.DataFrame 的主流参数是字典\n",
    "- 该字典-键keys是由变数构成，相当於表格中一行行的标题\n",
    "- 该字典的值values是由观察的列表构成，相当於表格中一行行的数据\n",
    "- 表格真的要是表格, 该字典的每个观察的列表数量必需齐一\n",
    "\n",
    "[小贴士] 最后一个逗点可有可无(为什麽?)，在pandas情境下最好留(为什麽?)\n",
    "- 最后一个逗点可有可无的原因是因为比较整洁容易看。\n",
    "- pandas最好留是因为防止copy的时候copy到最后一个少一个\",\"而报错，浪费时间。"
   ]
  },
  {
   "cell_type": "code",
   "execution_count": 24,
   "metadata": {},
   "outputs": [
    {
     "data": {
      "text/html": [
       "<div>\n",
       "<style scoped>\n",
       "    .dataframe tbody tr th:only-of-type {\n",
       "        vertical-align: middle;\n",
       "    }\n",
       "\n",
       "    .dataframe tbody tr th {\n",
       "        vertical-align: top;\n",
       "    }\n",
       "\n",
       "    .dataframe thead th {\n",
       "        text-align: right;\n",
       "    }\n",
       "</style>\n",
       "<table border=\"1\" class=\"dataframe\">\n",
       "  <thead>\n",
       "    <tr style=\"text-align: right;\">\n",
       "      <th></th>\n",
       "      <th>变数A</th>\n",
       "      <th>变数B</th>\n",
       "      <th>变数C</th>\n",
       "      <th>变数D</th>\n",
       "      <th>变数E</th>\n",
       "    </tr>\n",
       "  </thead>\n",
       "  <tbody>\n",
       "    <tr>\n",
       "      <th>0</th>\n",
       "      <td>观察A1</td>\n",
       "      <td>观察B1</td>\n",
       "      <td>观察C1</td>\n",
       "      <td>观察D1</td>\n",
       "      <td>观察E1</td>\n",
       "    </tr>\n",
       "    <tr>\n",
       "      <th>1</th>\n",
       "      <td>观察A2</td>\n",
       "      <td>观察B2</td>\n",
       "      <td>观察C2</td>\n",
       "      <td>观察D2</td>\n",
       "      <td>观察E2</td>\n",
       "    </tr>\n",
       "    <tr>\n",
       "      <th>2</th>\n",
       "      <td>观察A3</td>\n",
       "      <td>观察B3</td>\n",
       "      <td>观察C3</td>\n",
       "      <td>观察D3</td>\n",
       "      <td>观察E3</td>\n",
       "    </tr>\n",
       "    <tr>\n",
       "      <th>3</th>\n",
       "      <td>观察A4</td>\n",
       "      <td>观察B4</td>\n",
       "      <td>观察C4</td>\n",
       "      <td>观察D4</td>\n",
       "      <td>观察E4</td>\n",
       "    </tr>\n",
       "  </tbody>\n",
       "</table>\n",
       "</div>"
      ],
      "text/plain": [
       "    变数A   变数B   变数C   变数D   变数E\n",
       "0  观察A1  观察B1  观察C1  观察D1  观察E1\n",
       "1  观察A2  观察B2  观察C2  观察D2  观察E2\n",
       "2  观察A3  观察B3  观察C3  观察D3  观察E3\n",
       "3  观察A4  观察B4  观察C4  观察D4  观察E4"
      ]
     },
     "execution_count": 24,
     "metadata": {},
     "output_type": "execute_result"
    }
   ],
   "source": [
    "# A1 dict\n",
    "# 先弄字典, 再弄 框框 的写法片语\n",
    "字典 = {\n",
    "        \"变数A\": [\"观察A1\", \"观察A2\", \"观察A3\", \"观察A4\"],\n",
    "        \"变数B\": [\"观察B1\", \"观察B2\", \"观察B3\", \"观察B4\"],\n",
    "        \"变数C\": [\"观察C1\", \"观察C2\", \"观察C3\", \"观察C4\"],\n",
    "        \"变数D\": [\"观察D1\", \"观察D2\", \"观察D3\", \"观察D4\"],\n",
    "        \"变数E\": [\"观察E1\", \"观察E2\", \"观察E3\", \"观察E4\"],\n",
    "       }\n",
    "\n",
    "框框 = pd.DataFrame ( 字典 )\n",
    "框框"
   ]
  },
  {
   "cell_type": "code",
   "execution_count": 27,
   "metadata": {},
   "outputs": [
    {
     "name": "stdout",
     "output_type": "stream",
     "text": [
      "    变数A   变数B   变数C   变数D   变数E\n",
      "0  观察A1  观察B1  观察C1  观察D1  观察E1\n",
      "1  观察A2  观察B2  观察C2  观察D2  观察E2\n",
      "2  观察A3  观察B3  观察C3  观察D3  观察E3\n",
      "3  观察A4  观察B4  观察C4  观察D4  观察E4\n"
     ]
    }
   ],
   "source": [
    "# A1 print\n",
    "# 在ipynb用 print比较不上看，因为是文字text输出为主\n",
    "print (框框)  "
   ]
  },
  {
   "cell_type": "code",
   "execution_count": 26,
   "metadata": {},
   "outputs": [
    {
     "data": {
      "text/html": [
       "<div>\n",
       "<style scoped>\n",
       "    .dataframe tbody tr th:only-of-type {\n",
       "        vertical-align: middle;\n",
       "    }\n",
       "\n",
       "    .dataframe tbody tr th {\n",
       "        vertical-align: top;\n",
       "    }\n",
       "\n",
       "    .dataframe thead th {\n",
       "        text-align: right;\n",
       "    }\n",
       "</style>\n",
       "<table border=\"1\" class=\"dataframe\">\n",
       "  <thead>\n",
       "    <tr style=\"text-align: right;\">\n",
       "      <th></th>\n",
       "      <th>变数A</th>\n",
       "      <th>变数B</th>\n",
       "      <th>变数C</th>\n",
       "      <th>变数D</th>\n",
       "      <th>变数E</th>\n",
       "    </tr>\n",
       "  </thead>\n",
       "  <tbody>\n",
       "    <tr>\n",
       "      <th>0</th>\n",
       "      <td>观察A1</td>\n",
       "      <td>观察B1</td>\n",
       "      <td>观察C1</td>\n",
       "      <td>观察D1</td>\n",
       "      <td>观察E1</td>\n",
       "    </tr>\n",
       "    <tr>\n",
       "      <th>1</th>\n",
       "      <td>观察A2</td>\n",
       "      <td>观察B2</td>\n",
       "      <td>观察C2</td>\n",
       "      <td>观察D2</td>\n",
       "      <td>观察E2</td>\n",
       "    </tr>\n",
       "    <tr>\n",
       "      <th>2</th>\n",
       "      <td>观察A3</td>\n",
       "      <td>观察B3</td>\n",
       "      <td>观察C3</td>\n",
       "      <td>观察D3</td>\n",
       "      <td>观察E3</td>\n",
       "    </tr>\n",
       "    <tr>\n",
       "      <th>3</th>\n",
       "      <td>观察A4</td>\n",
       "      <td>观察B4</td>\n",
       "      <td>观察C4</td>\n",
       "      <td>观察D4</td>\n",
       "      <td>观察E4</td>\n",
       "    </tr>\n",
       "  </tbody>\n",
       "</table>\n",
       "</div>"
      ],
      "text/plain": [
       "    变数A   变数B   变数C   变数D   变数E\n",
       "0  观察A1  观察B1  观察C1  观察D1  观察E1\n",
       "1  观察A2  观察B2  观察C2  观察D2  观察E2\n",
       "2  观察A3  观察B3  观察C3  观察D3  观察E3\n",
       "3  观察A4  观察B4  观察C4  观察D4  观察E4"
      ]
     },
     "metadata": {},
     "output_type": "display_data"
    }
   ],
   "source": [
    "# A1 display\n",
    "# 在ipynb可用 display 比较上看\n",
    "\n",
    "from IPython.display import display, HTML\n",
    "# 從 IPython.display 模塊 導入使用 display和HTML\n",
    "display (框框)"
   ]
  },
  {
   "cell_type": "markdown",
   "metadata": {},
   "source": [
    "**框框框**(DataFrame)的取变数成 **系列** (Series)"
   ]
  },
  {
   "cell_type": "code",
   "execution_count": 37,
   "metadata": {},
   "outputs": [
    {
     "data": {
      "text/plain": [
       "0    观察A1\n",
       "1    观察A2\n",
       "2    观察A3\n",
       "3    观察A4\n",
       "Name: 变数A, dtype: object"
      ]
     },
     "execution_count": 37,
     "metadata": {},
     "output_type": "execute_result"
    }
   ],
   "source": [
    "# A2 Series\n",
    "# first slice\n",
    "框框 [\"变数A\"]  \n",
    "# [] 像字典取值, 改值从列表升级为有**索引的序列series**\n",
    "# \"0,1,2,3\"→索引\n",
    "# dtype：数据的形态\n",
    "# object 对象/物件"
   ]
  },
  {
   "cell_type": "code",
   "execution_count": 38,
   "metadata": {},
   "outputs": [
    {
     "data": {
      "text/plain": [
       "array(['观察A1', '观察A2', '观察A3', '观察A4'], dtype=object)"
      ]
     },
     "execution_count": 38,
     "metadata": {},
     "output_type": "execute_result"
    }
   ],
   "source": [
    "# A2 Series values\n",
    "框框 [\"变数A\"].values # 值\n",
    "# array 阵列"
   ]
  },
  {
   "cell_type": "code",
   "execution_count": 39,
   "metadata": {
    "scrolled": true
   },
   "outputs": [
    {
     "data": {
      "text/plain": [
       "RangeIndex(start=0, stop=4, step=1)"
      ]
     },
     "execution_count": 39,
     "metadata": {},
     "output_type": "execute_result"
    }
   ],
   "source": [
    "# A2 Series index\n",
    "框框 [\"变数A\"].index # 索引\n",
    "# RangeIndex 跟 range（0,4）相似"
   ]
  },
  {
   "cell_type": "code",
   "execution_count": 41,
   "metadata": {},
   "outputs": [
    {
     "data": {
      "text/plain": [
       "[0, 1, 2, 3]"
      ]
     },
     "execution_count": 41,
     "metadata": {},
     "output_type": "execute_result"
    }
   ],
   "source": [
    "list(框框 [\"变数A\"].index)"
   ]
  },
  {
   "cell_type": "code",
   "execution_count": 42,
   "metadata": {},
   "outputs": [
    {
     "data": {
      "text/plain": [
       "变数A    观察A4\n",
       "变数B    观察B4\n",
       "变数C    观察C4\n",
       "变数D    观察D4\n",
       "变数E    观察E4\n",
       "Name: 3, dtype: object"
      ]
     },
     "execution_count": 42,
     "metadata": {},
     "output_type": "execute_result"
    }
   ],
   "source": [
    "# A2 DataFrame .loc[]\n",
    "# 用 .loc[] 取列, 相当於所有变数的某一次观察\n",
    "框框.loc[3]   # loc = location  row"
   ]
  },
  {
   "cell_type": "code",
   "execution_count": null,
   "metadata": {},
   "outputs": [],
   "source": []
  }
 ],
 "metadata": {
  "kernelspec": {
   "display_name": "Python 3",
   "language": "python",
   "name": "python3"
  },
  "language_info": {
   "codemirror_mode": {
    "name": "ipython",
    "version": 3
   },
   "file_extension": ".py",
   "mimetype": "text/x-python",
   "name": "python",
   "nbconvert_exporter": "python",
   "pygments_lexer": "ipython3",
   "version": "3.7.3"
  },
  "toc": {
   "base_numbering": 1,
   "nav_menu": {},
   "number_sections": true,
   "sideBar": true,
   "skip_h1_title": false,
   "title_cell": "Table of Contents",
   "title_sidebar": "Contents",
   "toc_cell": false,
   "toc_position": {},
   "toc_section_display": true,
   "toc_window_display": false
  }
 },
 "nbformat": 4,
 "nbformat_minor": 2
}
